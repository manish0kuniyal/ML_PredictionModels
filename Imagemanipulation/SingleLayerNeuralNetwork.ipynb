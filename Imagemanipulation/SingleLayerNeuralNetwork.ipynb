{
 "cells": [
  {
   "cell_type": "code",
   "execution_count": 74,
   "id": "4715abfc",
   "metadata": {},
   "outputs": [],
   "source": [
    "#Single Layer Neural Network\n",
    "#implementing an activation function i.e., sigmoid function "
   ]
  },
  {
   "cell_type": "code",
   "execution_count": 82,
   "id": "f951883f",
   "metadata": {},
   "outputs": [],
   "source": [
    "import numpy as np"
   ]
  },
  {
   "cell_type": "code",
   "execution_count": 83,
   "id": "5017c723",
   "metadata": {},
   "outputs": [],
   "source": [
    "def nonlin(x, deriv=False):\n",
    "    if (deriv == True):\n",
    "        return x * (1 - x)\n",
    "    return 1 * (1 + np.exp(-x))\n"
   ]
  },
  {
   "cell_type": "code",
   "execution_count": 84,
   "id": "e5991dd7",
   "metadata": {},
   "outputs": [],
   "source": [
    "x = np.array([\n",
    "    [0,0,1],\n",
    "    [0,1,1],\n",
    "    [1,0,1],\n",
    "    [1,1,1]\n",
    "])\n",
    "\n",
    "y=np.array([[0,0,1,1]]).T"
   ]
  },
  {
   "cell_type": "code",
   "execution_count": 85,
   "id": "c0545c14",
   "metadata": {},
   "outputs": [],
   "source": [
    "# np.random.seed(1)"
   ]
  },
  {
   "cell_type": "code",
   "execution_count": 86,
   "id": "bfa94a8e",
   "metadata": {},
   "outputs": [],
   "source": [
    "w0=2*np.random.random((3,1))-1\n"
   ]
  },
  {
   "cell_type": "code",
   "execution_count": 88,
   "id": "41ba0913",
   "metadata": {},
   "outputs": [
    {
     "data": {
      "text/plain": [
       "array([[-0.39533485],\n",
       "       [-0.70648822],\n",
       "       [-0.81532281]])"
      ]
     },
     "execution_count": 88,
     "metadata": {},
     "output_type": "execute_result"
    }
   ],
   "source": [
    "w0"
   ]
  },
  {
   "cell_type": "code",
   "execution_count": 89,
   "id": "0b8d8c2b",
   "metadata": {},
   "outputs": [
    {
     "name": "stdout",
     "output_type": "stream",
     "text": [
      " Output - >\n",
      "[[1.]\n",
      " [1.]\n",
      " [1.]\n",
      " [1.]]\n"
     ]
    }
   ],
   "source": [
    " for iter in range(100):\n",
    "        l0=x\n",
    "        l1=np.dot(l0,w0)\n",
    "        l1=nonlin(l1)\n",
    "        l1_err=y-l1\n",
    "        del_l1=l1_err*nonlin(l1,True)\n",
    "        w0=w0+np.dot(l0.T,del_l1)\n",
    "print(\" Output - >\")\n",
    "print(l1)"
   ]
  },
  {
   "cell_type": "code",
   "execution_count": 91,
   "id": "248940bf",
   "metadata": {},
   "outputs": [
    {
     "name": "stdout",
     "output_type": "stream",
     "text": [
      "Predicted output: [[0.5]]\n"
     ]
    }
   ],
   "source": []
  },
  {
   "cell_type": "code",
   "execution_count": null,
   "id": "164b07e8",
   "metadata": {},
   "outputs": [],
   "source": []
  },
  {
   "cell_type": "code",
   "execution_count": 46,
   "id": "b5619c60",
   "metadata": {},
   "outputs": [],
   "source": [
    "import numpy as np\n",
    "import matplotlib.pyplot as plt\n",
    "import pandas as pd"
   ]
  },
  {
   "cell_type": "code",
   "execution_count": 47,
   "id": "e2d49f60",
   "metadata": {},
   "outputs": [],
   "source": [
    "x=np.vstack([(np.random.rand(10,2)*5),(np.random.rand(10,2)*10)])\n",
    "y=np.hstack([[0]*10,[1]*10])\n",
    "dataset =pd.DataFrame(x,columns=[\"X1\",\"X2\"])\n",
    "dataset[\"Y\"]=y"
   ]
  },
  {
   "cell_type": "code",
   "execution_count": 48,
   "id": "dc1d28b4",
   "metadata": {},
   "outputs": [
    {
     "data": {
      "text/html": [
       "<div>\n",
       "<style scoped>\n",
       "    .dataframe tbody tr th:only-of-type {\n",
       "        vertical-align: middle;\n",
       "    }\n",
       "\n",
       "    .dataframe tbody tr th {\n",
       "        vertical-align: top;\n",
       "    }\n",
       "\n",
       "    .dataframe thead th {\n",
       "        text-align: right;\n",
       "    }\n",
       "</style>\n",
       "<table border=\"1\" class=\"dataframe\">\n",
       "  <thead>\n",
       "    <tr style=\"text-align: right;\">\n",
       "      <th></th>\n",
       "      <th>X1</th>\n",
       "      <th>X2</th>\n",
       "      <th>Y</th>\n",
       "    </tr>\n",
       "  </thead>\n",
       "  <tbody>\n",
       "    <tr>\n",
       "      <th>0</th>\n",
       "      <td>0.748173</td>\n",
       "      <td>3.837619</td>\n",
       "      <td>0</td>\n",
       "    </tr>\n",
       "    <tr>\n",
       "      <th>1</th>\n",
       "      <td>1.692745</td>\n",
       "      <td>1.038938</td>\n",
       "      <td>0</td>\n",
       "    </tr>\n",
       "    <tr>\n",
       "      <th>2</th>\n",
       "      <td>3.694515</td>\n",
       "      <td>2.858898</td>\n",
       "      <td>0</td>\n",
       "    </tr>\n",
       "    <tr>\n",
       "      <th>3</th>\n",
       "      <td>0.275594</td>\n",
       "      <td>2.592198</td>\n",
       "      <td>0</td>\n",
       "    </tr>\n",
       "    <tr>\n",
       "      <th>4</th>\n",
       "      <td>4.377740</td>\n",
       "      <td>0.956980</td>\n",
       "      <td>0</td>\n",
       "    </tr>\n",
       "    <tr>\n",
       "      <th>5</th>\n",
       "      <td>3.998284</td>\n",
       "      <td>4.624734</td>\n",
       "      <td>0</td>\n",
       "    </tr>\n",
       "    <tr>\n",
       "      <th>6</th>\n",
       "      <td>3.322156</td>\n",
       "      <td>4.412946</td>\n",
       "      <td>0</td>\n",
       "    </tr>\n",
       "    <tr>\n",
       "      <th>7</th>\n",
       "      <td>1.981271</td>\n",
       "      <td>2.441421</td>\n",
       "      <td>0</td>\n",
       "    </tr>\n",
       "    <tr>\n",
       "      <th>8</th>\n",
       "      <td>0.597845</td>\n",
       "      <td>4.384387</td>\n",
       "      <td>0</td>\n",
       "    </tr>\n",
       "    <tr>\n",
       "      <th>9</th>\n",
       "      <td>0.759281</td>\n",
       "      <td>1.202848</td>\n",
       "      <td>0</td>\n",
       "    </tr>\n",
       "    <tr>\n",
       "      <th>10</th>\n",
       "      <td>3.271043</td>\n",
       "      <td>0.533336</td>\n",
       "      <td>1</td>\n",
       "    </tr>\n",
       "    <tr>\n",
       "      <th>11</th>\n",
       "      <td>3.390112</td>\n",
       "      <td>1.525878</td>\n",
       "      <td>1</td>\n",
       "    </tr>\n",
       "    <tr>\n",
       "      <th>12</th>\n",
       "      <td>0.927129</td>\n",
       "      <td>9.752913</td>\n",
       "      <td>1</td>\n",
       "    </tr>\n",
       "    <tr>\n",
       "      <th>13</th>\n",
       "      <td>5.237020</td>\n",
       "      <td>8.301606</td>\n",
       "      <td>1</td>\n",
       "    </tr>\n",
       "    <tr>\n",
       "      <th>14</th>\n",
       "      <td>2.636070</td>\n",
       "      <td>2.076984</td>\n",
       "      <td>1</td>\n",
       "    </tr>\n",
       "    <tr>\n",
       "      <th>15</th>\n",
       "      <td>0.843829</td>\n",
       "      <td>4.058809</td>\n",
       "      <td>1</td>\n",
       "    </tr>\n",
       "    <tr>\n",
       "      <th>16</th>\n",
       "      <td>7.742486</td>\n",
       "      <td>8.402340</td>\n",
       "      <td>1</td>\n",
       "    </tr>\n",
       "    <tr>\n",
       "      <th>17</th>\n",
       "      <td>4.347758</td>\n",
       "      <td>4.096760</td>\n",
       "      <td>1</td>\n",
       "    </tr>\n",
       "    <tr>\n",
       "      <th>18</th>\n",
       "      <td>6.388829</td>\n",
       "      <td>2.060353</td>\n",
       "      <td>1</td>\n",
       "    </tr>\n",
       "    <tr>\n",
       "      <th>19</th>\n",
       "      <td>2.961673</td>\n",
       "      <td>2.104876</td>\n",
       "      <td>1</td>\n",
       "    </tr>\n",
       "  </tbody>\n",
       "</table>\n",
       "</div>"
      ],
      "text/plain": [
       "          X1        X2  Y\n",
       "0   0.748173  3.837619  0\n",
       "1   1.692745  1.038938  0\n",
       "2   3.694515  2.858898  0\n",
       "3   0.275594  2.592198  0\n",
       "4   4.377740  0.956980  0\n",
       "5   3.998284  4.624734  0\n",
       "6   3.322156  4.412946  0\n",
       "7   1.981271  2.441421  0\n",
       "8   0.597845  4.384387  0\n",
       "9   0.759281  1.202848  0\n",
       "10  3.271043  0.533336  1\n",
       "11  3.390112  1.525878  1\n",
       "12  0.927129  9.752913  1\n",
       "13  5.237020  8.301606  1\n",
       "14  2.636070  2.076984  1\n",
       "15  0.843829  4.058809  1\n",
       "16  7.742486  8.402340  1\n",
       "17  4.347758  4.096760  1\n",
       "18  6.388829  2.060353  1\n",
       "19  2.961673  2.104876  1"
      ]
     },
     "execution_count": 48,
     "metadata": {},
     "output_type": "execute_result"
    }
   ],
   "source": [
    "dataset\n",
    "#lower values until 5 and the above 5 higher values"
   ]
  },
  {
   "cell_type": "code",
   "execution_count": 49,
   "id": "45828b37",
   "metadata": {},
   "outputs": [
    {
     "data": {
      "text/plain": [
       "<matplotlib.legend.Legend at 0x1e014159f10>"
      ]
     },
     "execution_count": 49,
     "metadata": {},
     "output_type": "execute_result"
    },
    {
     "data": {
      "image/png": "[encoded data removed]",
      "text/plain": [
       "<Figure size 640x480 with 1 Axes>"
      ]
     },
     "metadata": {},
     "output_type": "display_data"
    }
   ],
   "source": [
    "plt.plot(dataset,label='random data')\n",
    "plt.legend([\"X2\",\"X1\",\"Y\"])"
   ]
  },
  {
   "cell_type": "code",
   "execution_count": 50,
   "id": "eeb625ff",
   "metadata": {},
   "outputs": [],
   "source": [
    "#higher values of x1 and x2 we are getting higher value of y"
   ]
  },
  {
   "cell_type": "code",
   "execution_count": 51,
   "id": "18ce1f8e",
   "metadata": {},
   "outputs": [],
   "source": [
    "z=np.zeros((20,2))\n",
    "for i in range(20):\n",
    "    z[i,y[i]]=1"
   ]
  },
  {
   "cell_type": "code",
   "execution_count": 52,
   "id": "e88ee274",
   "metadata": {},
   "outputs": [
    {
     "data": {
      "text/plain": [
       "(20, 2)"
      ]
     },
     "execution_count": 52,
     "metadata": {},
     "output_type": "execute_result"
    }
   ],
   "source": [
    "x.shape"
   ]
  },
  {
   "cell_type": "code",
   "execution_count": 69,
   "id": "3c9b8197",
   "metadata": {},
   "outputs": [],
   "source": [
    "wi_1=np.random.rand(3,2)\n",
    "bi_1=np.random.rand(3)\n",
    "wi_2=np.random.rand(2,3)\n",
    "bi_2=np.random.rand(2)"
   ]
  },
  {
   "cell_type": "code",
   "execution_count": 70,
   "id": "e36262e0",
   "metadata": {},
   "outputs": [
    {
     "data": {
      "text/plain": [
       "array([[0.59390021, 0.71241277],\n",
       "       [0.81159071, 0.10010174],\n",
       "       [0.46962179, 0.24282625]])"
      ]
     },
     "execution_count": 70,
     "metadata": {},
     "output_type": "execute_result"
    }
   ],
   "source": [
    "wi_1"
   ]
  },
  {
   "cell_type": "code",
   "execution_count": 71,
   "id": "8b04551e",
   "metadata": {},
   "outputs": [
    {
     "data": {
      "text/plain": [
       "array([0.83399748, 0.71273155, 0.99091261])"
      ]
     },
     "execution_count": 71,
     "metadata": {},
     "output_type": "execute_result"
    }
   ],
   "source": [
    "bi_1"
   ]
  },
  {
   "cell_type": "code",
   "execution_count": 72,
   "id": "8ef085b3",
   "metadata": {},
   "outputs": [
    {
     "data": {
      "text/plain": [
       "array([[0.64427718, 0.53009595, 0.58509393],\n",
       "       [0.48576046, 0.6180763 , 0.08850712]])"
      ]
     },
     "execution_count": 72,
     "metadata": {},
     "output_type": "execute_result"
    }
   ],
   "source": [
    "wi_2"
   ]
  },
  {
   "cell_type": "code",
   "execution_count": 73,
   "id": "dc7c5ad1",
   "metadata": {},
   "outputs": [
    {
     "data": {
      "text/plain": [
       "array([0.43278474, 0.93798938])"
      ]
     },
     "execution_count": 73,
     "metadata": {},
     "output_type": "execute_result"
    }
   ],
   "source": [
    "bi_2"
   ]
  },
  {
   "cell_type": "code",
   "execution_count": 74,
   "id": "56bf19b2",
   "metadata": {},
   "outputs": [
    {
     "data": {
      "text/plain": [
       "array([[0.7481725 , 3.83761922],\n",
       "       [1.69274513, 1.03893764],\n",
       "       [3.69451464, 2.85889803],\n",
       "       [0.27559449, 2.59219769],\n",
       "       [4.37774026, 0.95698005],\n",
       "       [3.99828431, 4.6247338 ],\n",
       "       [3.32215617, 4.41294622],\n",
       "       [1.98127075, 2.44142065],\n",
       "       [0.59784465, 4.3843873 ],\n",
       "       [0.7592807 , 1.20284812],\n",
       "       [3.27104343, 0.53333641],\n",
       "       [3.39011168, 1.52587777],\n",
       "       [0.92712903, 9.75291309],\n",
       "       [5.23702034, 8.30160562],\n",
       "       [2.63606965, 2.07698358],\n",
       "       [0.84382914, 4.05880908],\n",
       "       [7.74248584, 8.40233991],\n",
       "       [4.34775791, 4.09676017],\n",
       "       [6.38882904, 2.06035301],\n",
       "       [2.9616732 , 2.10487585]])"
      ]
     },
     "execution_count": 74,
     "metadata": {},
     "output_type": "execute_result"
    }
   ],
   "source": [
    "x"
   ]
  },
  {
   "cell_type": "code",
   "execution_count": 75,
   "id": "055c4c98",
   "metadata": {},
   "outputs": [
    {
     "data": {
      "text/plain": [
       "array([[ 3.17830876,  0.9913622 ,  1.28323279],\n",
       "       [ 1.74547413,  1.47781569,  1.04723133],\n",
       "       [ 4.23088849,  3.28461443,  2.42924007],\n",
       "       [ 2.01039037,  0.48315341,  0.75887882],\n",
       "       [ 3.28170565,  3.6487287 ,  2.2882621 ],\n",
       "       [ 5.66930132,  3.70791429,  3.00068821],\n",
       "       [ 5.1168685 ,  3.13797467,  2.63173612],\n",
       "       [ 2.91597637,  1.85237139,  1.52328894],\n",
       "       [ 3.47855359,  0.92408994,  1.3454052 ],\n",
       "       [ 1.30786133,  0.73663235,  0.64865786],\n",
       "       [ 2.32262904,  2.70813637,  1.66566136],\n",
       "       [ 3.10044284,  2.90412616,  1.9625935 ],\n",
       "       [ 7.498722  ,  1.72873284,  2.8036633 ],\n",
       "       [ 9.02443736,  5.0813222 ,  4.47526663],\n",
       "       [ 3.04523194,  2.34731931,  1.74230189],\n",
       "       [ 3.39269774,  1.09113772,  1.38186594],\n",
       "       [10.58419823,  7.12481841,  5.67634876],\n",
       "       [ 5.5007186 ,  3.93869274,  3.03660277],\n",
       "       [ 5.26214869,  5.39135923,  3.50064114],\n",
       "       [ 3.25847877,  2.61436819,  1.90198539]])"
      ]
     },
     "execution_count": 75,
     "metadata": {},
     "output_type": "execute_result"
    }
   ],
   "source": [
    "x.dot(wi_1.T)"
   ]
  },
  {
   "cell_type": "code",
   "execution_count": 76,
   "id": "58afc079",
   "metadata": {},
   "outputs": [],
   "source": [
    "def frw(x,wi_1,b1_1,wi_2,b1_2):\n",
    "    #l1\n",
    "    m=1/(1+np.exp(-(x.dot(wi_1.T)+b1_1)))\n",
    "    #l2 softmax\n",
    "    a=m.dot(wi_2)+b1_2\n",
    "    expA=np.exp(a)\n",
    "    y=expA /expA.sum(axis=1,keepdims=True)\n",
    "    return y,m"
   ]
  },
  {
   "cell_type": "code",
   "execution_count": 77,
   "id": "85dfb171",
   "metadata": {},
   "outputs": [
    {
     "data": {
      "text/plain": [
       "(array([[0.60388068, 0.39611932],\n",
       "        [0.59209027, 0.40790973],\n",
       "        [0.6078939 , 0.3921061 ],\n",
       "        [0.59243405, 0.40756595],\n",
       "        [0.60617929, 0.39382071],\n",
       "        [0.60873325, 0.39126675],\n",
       "        [0.60850674, 0.39149326],\n",
       "        [0.60378346, 0.39621654],\n",
       "        [0.60499961, 0.39500039],\n",
       "        [0.58037004, 0.41962996],\n",
       "        [0.60080598, 0.39919402],\n",
       "        [0.60536638, 0.39463362],\n",
       "        [0.60888344, 0.39111656],\n",
       "        [0.60896463, 0.39103537],\n",
       "        [0.60482434, 0.39517566],\n",
       "        [0.60489726, 0.39510274],\n",
       "        [0.60897066, 0.39102934],\n",
       "        [0.60870364, 0.39129636],\n",
       "        [0.60867273, 0.39132727],\n",
       "        [0.6057672 , 0.3942328 ]]),\n",
       " array([[0.98475268, 0.97166122, 0.98301359],\n",
       "        [0.89217721, 0.92609155, 0.94229586],\n",
       "        [0.99265708, 0.99535152, 0.99803416],\n",
       "        [0.94026219, 0.91225081, 0.93104909],\n",
       "        [0.97161953, 0.99113696, 0.9955542 ],\n",
       "        [0.99877592, 0.99883374, 0.99963936],\n",
       "        [0.99783332, 0.99765359, 0.99916266],\n",
       "        [0.97254285, 0.97512225, 0.98505526],\n",
       "        [0.98993409, 0.97724595, 0.98712584],\n",
       "        [0.85123904, 0.86460103, 0.8796993 ],\n",
       "        [0.92595073, 0.97128992, 0.98149526],\n",
       "        [0.97090754, 0.98603879, 0.99241134],\n",
       "        [0.9999401 , 0.99943515, 0.99986447],\n",
       "        [0.9999793 , 0.99996074, 0.99999426],\n",
       "        [0.97329802, 0.98168311, 0.98959488],\n",
       "        [0.98817047, 0.97716821, 0.98698291],\n",
       "        [0.99999533, 0.99999545, 0.99999957],\n",
       "        [0.99836113, 0.99877778, 0.99961417],\n",
       "        [0.99656768, 0.99917847, 0.99974952],\n",
       "        [0.97818395, 0.98622656, 0.9926259 ]]))"
      ]
     },
     "execution_count": 77,
     "metadata": {},
     "output_type": "execute_result"
    }
   ],
   "source": [
    "frw(x,w1_1,b1_1,w1_2,b1_2)#probof 01"
   ]
  },
  {
   "cell_type": "code",
   "execution_count": 78,
   "id": "812e494d",
   "metadata": {},
   "outputs": [],
   "source": [
    "#gradientdescent\n",
    "def diff_wi_2(h,z,y):\n",
    "    return h.T.dot(z-y)"
   ]
  },
  {
   "cell_type": "code",
   "execution_count": 79,
   "id": "6ca0da66",
   "metadata": {},
   "outputs": [],
   "source": [
    "def diff_wi_1(x,h,z,output,wi_2):\n",
    "    dz=(z-output).dot(wi_2).T*h*(1-h)\n",
    "    return x.T.dot(dz)"
   ]
  },
  {
   "cell_type": "code",
   "execution_count": 80,
   "id": "24e1a504",
   "metadata": {},
   "outputs": [],
   "source": [
    "#derivative of both bias\n",
    "def diff_b2(z,y):\n",
    "    return (z-y).sum(axis=0)\n",
    "\n",
    "def diff_b1(z,y,wi_2,h):\n",
    "    return ((z-y).dot(wi_2.T)*h*(1-h)).sum(axis=0)"
   ]
  },
  {
   "cell_type": "code",
   "execution_count": 81,
   "id": "44df4ddf",
   "metadata": {},
   "outputs": [
    {
     "ename": "ValueError",
     "evalue": "shapes (20,3) and (2,3) not aligned: 3 (dim 1) != 2 (dim 0)",
     "output_type": "error",
     "traceback": [
      "\u001b[1;31m---------------------------------------------------------------------------\u001b[0m",
      "\u001b[1;31mValueError\u001b[0m                                Traceback (most recent call last)",
      "Cell \u001b[1;32mIn[81], line 3\u001b[0m\n\u001b[0;32m      1\u001b[0m learning_rate\u001b[38;5;241m=\u001b[39m\u001b[38;5;241m1e-3\u001b[39m\n\u001b[0;32m      2\u001b[0m \u001b[38;5;28;01mfor\u001b[39;00m epoch \u001b[38;5;129;01min\u001b[39;00m \u001b[38;5;28mrange\u001b[39m(\u001b[38;5;241m5000\u001b[39m):\n\u001b[1;32m----> 3\u001b[0m     output, hidden\u001b[38;5;241m=\u001b[39mfrw(x,wi_1,bi_1,wi_2,bi_2)\n\u001b[0;32m      4\u001b[0m     wi_2\u001b[38;5;241m+\u001b[39m\u001b[38;5;241m=\u001b[39mlearning_rate \u001b[38;5;241m*\u001b[39m diff_wi_2(hidden,z,output)\n\u001b[0;32m      5\u001b[0m     bi_2\u001b[38;5;241m+\u001b[39m\u001b[38;5;241m=\u001b[39mlearning_rate \u001b[38;5;241m*\u001b[39m diff_b2(z,output)\n",
      "Cell \u001b[1;32mIn[76], line 5\u001b[0m, in \u001b[0;36mfrw\u001b[1;34m(x, wi_1, b1_1, wi_2, b1_2)\u001b[0m\n\u001b[0;32m      3\u001b[0m m\u001b[38;5;241m=\u001b[39m\u001b[38;5;241m1\u001b[39m\u001b[38;5;241m/\u001b[39m(\u001b[38;5;241m1\u001b[39m\u001b[38;5;241m+\u001b[39mnp\u001b[38;5;241m.\u001b[39mexp(\u001b[38;5;241m-\u001b[39m(x\u001b[38;5;241m.\u001b[39mdot(wi_1\u001b[38;5;241m.\u001b[39mT)\u001b[38;5;241m+\u001b[39mb1_1)))\n\u001b[0;32m      4\u001b[0m \u001b[38;5;66;03m#l2 softmax\u001b[39;00m\n\u001b[1;32m----> 5\u001b[0m a\u001b[38;5;241m=\u001b[39mm\u001b[38;5;241m.\u001b[39mdot(wi_2)\u001b[38;5;241m+\u001b[39mb1_2\n\u001b[0;32m      6\u001b[0m expA\u001b[38;5;241m=\u001b[39mnp\u001b[38;5;241m.\u001b[39mexp(a)\n\u001b[0;32m      7\u001b[0m y\u001b[38;5;241m=\u001b[39mexpA \u001b[38;5;241m/\u001b[39mexpA\u001b[38;5;241m.\u001b[39msum(axis\u001b[38;5;241m=\u001b[39m\u001b[38;5;241m1\u001b[39m,keepdims\u001b[38;5;241m=\u001b[39m\u001b[38;5;28;01mTrue\u001b[39;00m)\n",
      "\u001b[1;31mValueError\u001b[0m: shapes (20,3) and (2,3) not aligned: 3 (dim 1) != 2 (dim 0)"
     ]
    }
   ],
   "source": [
    "learning_rate=1e-3\n",
    "for epoch in range(5000):\n",
    "    output, hidden=frw(x,wi_1,bi_1,wi_2,bi_2)\n",
    "    wi_2+=learning_rate * diff_wi_2(hidden,z,output)\n",
    "    bi_2+=learning_rate * diff_b2(z,output)\n",
    "    wi_1+=learning_rate * diff_wi_1(x,hidden,z,output,wi_2).T\n",
    "    bi_1+=learning_rate * diff_b1(z,output,wi_2,hidden)"
   ]
  },
  {
   "cell_type": "code",
   "execution_count": null,
   "id": "f98442c7",
   "metadata": {},
   "outputs": [],
   "source": []
  }
 ],
 "metadata": {
  "kernelspec": {
   "display_name": "Python 3 (ipykernel)",
   "language": "python",
   "name": "python3"
  },
  "language_info": {
   "codemirror_mode": {
    "name": "ipython",
    "version": 3
   },
   "file_extension": ".py",
   "mimetype": "text/x-python",
   "name": "python",
   "nbconvert_exporter": "python",
   "pygments_lexer": "ipython3",
   "version": "3.11.3"
  }
 },
 "nbformat": 4,
 "nbformat_minor": 5
}
